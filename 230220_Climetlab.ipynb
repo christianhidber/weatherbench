{
  "nbformat": 4,
  "nbformat_minor": 0,
  "metadata": {
    "colab": {
      "provenance": [],
      "authorship_tag": "ABX9TyNo1DgSDKnQM3x3Mt4aVom4",
      "include_colab_link": true
    },
    "kernelspec": {
      "name": "python3",
      "display_name": "Python 3"
    },
    "language_info": {
      "name": "python"
    }
  },
  "cells": [
    {
      "cell_type": "markdown",
      "metadata": {
        "id": "view-in-github",
        "colab_type": "text"
      },
      "source": [
        "<a href=\"https://colab.research.google.com/github/christianhidber/weatherbench/blob/dev/230220_Climetlab.ipynb\" target=\"_parent\"><img src=\"https://colab.research.google.com/assets/colab-badge.svg\" alt=\"Open In Colab\"/></a>"
      ]
    },
    {
      "cell_type": "code",
      "source": [
        "!pip install climetlab"
      ],
      "metadata": {
        "colab": {
          "base_uri": "https://localhost:8080/"
        },
        "id": "DMojmvTKiOCT",
        "outputId": "3fa79ec3-5054-4cd1-a31f-f86535567050"
      },
      "execution_count": 2,
      "outputs": [
        {
          "output_type": "stream",
          "name": "stdout",
          "text": [
            "Looking in indexes: https://pypi.org/simple, https://us-python.pkg.dev/colab-wheels/public/simple/\n",
            "Collecting climetlab\n",
            "  Downloading climetlab-0.13.5.tar.gz (158 kB)\n",
            "\u001b[2K     \u001b[90m━━━━━━━━━━━━━━━━━━━━━━━━━━━━━━━━━━━━━━━\u001b[0m \u001b[32m158.6/158.6 KB\u001b[0m \u001b[31m6.7 MB/s\u001b[0m eta \u001b[36m0:00:00\u001b[0m\n",
            "\u001b[?25h  Preparing metadata (setup.py) ... \u001b[?25l\u001b[?25hdone\n",
            "Requirement already satisfied: numpy in /usr/local/lib/python3.8/dist-packages (from climetlab) (1.21.6)\n",
            "Requirement already satisfied: pandas in /usr/local/lib/python3.8/dist-packages (from climetlab) (1.3.5)\n",
            "Requirement already satisfied: xarray>=0.19.0 in /usr/local/lib/python3.8/dist-packages (from climetlab) (2022.12.0)\n",
            "Requirement already satisfied: requests in /usr/local/lib/python3.8/dist-packages (from climetlab) (2.25.1)\n",
            "Requirement already satisfied: dask in /usr/local/lib/python3.8/dist-packages (from climetlab) (2022.2.1)\n",
            "Requirement already satisfied: netcdf4 in /usr/local/lib/python3.8/dist-packages (from climetlab) (1.6.2)\n",
            "Collecting cfgrib>=0.9.10.1\n",
            "  Downloading cfgrib-0.9.10.3.tar.gz (6.4 MB)\n",
            "\u001b[2K     \u001b[90m━━━━━━━━━━━━━━━━━━━━━━━━━━━━━━━━━━━━━━━━\u001b[0m \u001b[32m6.4/6.4 MB\u001b[0m \u001b[31m65.1 MB/s\u001b[0m eta \u001b[36m0:00:00\u001b[0m\n",
            "\u001b[?25h  Installing build dependencies ... \u001b[?25l\u001b[?25hdone\n",
            "  Getting requirements to build wheel ... \u001b[?25l\u001b[?25hdone\n",
            "  Preparing metadata (pyproject.toml) ... \u001b[?25l\u001b[?25hdone\n",
            "Collecting cdsapi\n",
            "  Downloading cdsapi-0.5.1.tar.gz (12 kB)\n",
            "  Preparing metadata (setup.py) ... \u001b[?25l\u001b[?25hdone\n",
            "Collecting ecmwf-api-client>=1.6.1\n",
            "  Downloading ecmwf-api-client-1.6.3.tar.gz (12 kB)\n",
            "  Preparing metadata (setup.py) ... \u001b[?25l\u001b[?25hdone\n",
            "Collecting multiurl>=0.1.0\n",
            "  Downloading multiurl-0.2.0.tar.gz (16 kB)\n",
            "  Preparing metadata (setup.py) ... \u001b[?25l\u001b[?25hdone\n",
            "Collecting ecmwf-opendata>=0.1.2\n",
            "  Downloading ecmwf-opendata-0.1.2.tar.gz (22 kB)\n",
            "  Preparing metadata (setup.py) ... \u001b[?25l\u001b[?25hdone\n",
            "Requirement already satisfied: tqdm in /usr/local/lib/python3.8/dist-packages (from climetlab) (4.64.1)\n",
            "Collecting eccodes>=1.3.0\n",
            "  Downloading eccodes-1.5.1.tar.gz (2.3 MB)\n",
            "\u001b[2K     \u001b[90m━━━━━━━━━━━━━━━━━━━━━━━━━━━━━━━━━━━━━━━━\u001b[0m \u001b[32m2.3/2.3 MB\u001b[0m \u001b[31m74.5 MB/s\u001b[0m eta \u001b[36m0:00:00\u001b[0m\n",
            "\u001b[?25h  Preparing metadata (setup.py) ... \u001b[?25l\u001b[?25hdone\n",
            "Collecting magics>=1.5.6\n",
            "  Downloading Magics-1.5.8.tar.gz (22 kB)\n",
            "  Preparing metadata (setup.py) ... \u001b[?25l\u001b[?25hdone\n",
            "Collecting ecmwflibs\n",
            "  Downloading ecmwflibs-0.5.0-cp38-cp38-manylinux_2_17_x86_64.manylinux2014_x86_64.whl (74.4 MB)\n",
            "\u001b[2K     \u001b[90m━━━━━━━━━━━━━━━━━━━━━━━━━━━━━━━━━━━━━━━━\u001b[0m \u001b[32m74.4/74.4 MB\u001b[0m \u001b[31m10.6 MB/s\u001b[0m eta \u001b[36m0:00:00\u001b[0m\n",
            "\u001b[?25hCollecting pdbufr\n",
            "  Downloading pdbufr-0.9.0.tar.gz (8.8 MB)\n",
            "\u001b[2K     \u001b[90m━━━━━━━━━━━━━━━━━━━━━━━━━━━━━━━━━━━━━━━━\u001b[0m \u001b[32m8.8/8.8 MB\u001b[0m \u001b[31m54.4 MB/s\u001b[0m eta \u001b[36m0:00:00\u001b[0m\n",
            "\u001b[?25h  Installing build dependencies ... \u001b[?25l\u001b[?25hdone\n",
            "  Getting requirements to build wheel ... \u001b[?25l\u001b[?25hdone\n",
            "  Preparing metadata (pyproject.toml) ... \u001b[?25l\u001b[?25hdone\n",
            "Collecting pyodc\n",
            "  Downloading pyodc-1.1.4.tar.gz (26 kB)\n",
            "  Installing build dependencies ... \u001b[?25l\u001b[?25hdone\n",
            "  Getting requirements to build wheel ... \u001b[?25l\u001b[?25hdone\n",
            "  Preparing metadata (pyproject.toml) ... \u001b[?25l\u001b[?25hdone\n",
            "Requirement already satisfied: toolz in /usr/local/lib/python3.8/dist-packages (from climetlab) (0.12.0)\n",
            "Requirement already satisfied: filelock in /usr/local/lib/python3.8/dist-packages (from climetlab) (3.9.0)\n",
            "Requirement already satisfied: pyyaml in /usr/local/lib/python3.8/dist-packages (from climetlab) (6.0)\n",
            "Requirement already satisfied: markdown in /usr/local/lib/python3.8/dist-packages (from climetlab) (3.4.1)\n",
            "Requirement already satisfied: termcolor in /usr/local/lib/python3.8/dist-packages (from climetlab) (2.2.0)\n",
            "Requirement already satisfied: entrypoints in /usr/local/lib/python3.8/dist-packages (from climetlab) (0.4)\n",
            "Requirement already satisfied: branca in /usr/local/lib/python3.8/dist-packages (from climetlab) (0.6.0)\n",
            "Requirement already satisfied: attrs>=19.2 in /usr/local/lib/python3.8/dist-packages (from cfgrib>=0.9.10.1->climetlab) (22.2.0)\n",
            "Requirement already satisfied: click in /usr/local/lib/python3.8/dist-packages (from cfgrib>=0.9.10.1->climetlab) (7.1.2)\n",
            "Requirement already satisfied: cffi in /usr/local/lib/python3.8/dist-packages (from eccodes>=1.3.0->climetlab) (1.15.1)\n",
            "Collecting findlibs\n",
            "  Downloading findlibs-0.0.2.tar.gz (6.2 kB)\n",
            "  Preparing metadata (setup.py) ... \u001b[?25l\u001b[?25hdone\n",
            "Requirement already satisfied: pytz in /usr/local/lib/python3.8/dist-packages (from multiurl>=0.1.0->climetlab) (2022.7.1)\n",
            "Requirement already satisfied: python-dateutil in /usr/local/lib/python3.8/dist-packages (from multiurl>=0.1.0->climetlab) (2.8.2)\n",
            "Requirement already satisfied: packaging>=21.3 in /usr/local/lib/python3.8/dist-packages (from xarray>=0.19.0->climetlab) (23.0)\n",
            "Requirement already satisfied: jinja2 in /usr/local/lib/python3.8/dist-packages (from branca->climetlab) (2.11.3)\n",
            "Requirement already satisfied: certifi>=2017.4.17 in /usr/local/lib/python3.8/dist-packages (from requests->climetlab) (2022.12.7)\n",
            "Requirement already satisfied: urllib3<1.27,>=1.21.1 in /usr/local/lib/python3.8/dist-packages (from requests->climetlab) (1.24.3)\n",
            "Requirement already satisfied: idna<3,>=2.5 in /usr/local/lib/python3.8/dist-packages (from requests->climetlab) (2.10)\n",
            "Requirement already satisfied: chardet<5,>=3.0.2 in /usr/local/lib/python3.8/dist-packages (from requests->climetlab) (4.0.0)\n",
            "Requirement already satisfied: partd>=0.3.10 in /usr/local/lib/python3.8/dist-packages (from dask->climetlab) (1.3.0)\n",
            "Requirement already satisfied: fsspec>=0.6.0 in /usr/local/lib/python3.8/dist-packages (from dask->climetlab) (2023.1.0)\n",
            "Requirement already satisfied: cloudpickle>=1.1.1 in /usr/local/lib/python3.8/dist-packages (from dask->climetlab) (2.2.1)\n",
            "Requirement already satisfied: importlib-metadata>=4.4 in /usr/local/lib/python3.8/dist-packages (from markdown->climetlab) (6.0.0)\n",
            "Requirement already satisfied: cftime in /usr/local/lib/python3.8/dist-packages (from netcdf4->climetlab) (1.6.2)\n",
            "Requirement already satisfied: zipp>=0.5 in /usr/local/lib/python3.8/dist-packages (from importlib-metadata>=4.4->markdown->climetlab) (3.13.0)\n",
            "Requirement already satisfied: locket in /usr/local/lib/python3.8/dist-packages (from partd>=0.3.10->dask->climetlab) (1.0.0)\n",
            "Requirement already satisfied: six>=1.5 in /usr/local/lib/python3.8/dist-packages (from python-dateutil->multiurl>=0.1.0->climetlab) (1.15.0)\n",
            "Requirement already satisfied: pycparser in /usr/local/lib/python3.8/dist-packages (from cffi->eccodes>=1.3.0->climetlab) (2.21)\n",
            "Requirement already satisfied: MarkupSafe>=0.23 in /usr/local/lib/python3.8/dist-packages (from jinja2->branca->climetlab) (2.0.1)\n",
            "Building wheels for collected packages: climetlab, cfgrib, eccodes, ecmwf-api-client, ecmwf-opendata, magics, multiurl, cdsapi, pdbufr, pyodc, findlibs\n",
            "  Building wheel for climetlab (setup.py) ... \u001b[?25l\u001b[?25hdone\n",
            "  Created wheel for climetlab: filename=climetlab-0.13.5-py3-none-any.whl size=259360 sha256=cd28a18f794406d849307c31332960ff56c3b4321d00d86ecd65ab15ee709b7f\n",
            "  Stored in directory: /root/.cache/pip/wheels/36/06/be/07b01b7f9e0c30ce249c29cc6c0ac5ed4d6daa5a3514febbc9\n",
            "  Building wheel for cfgrib (pyproject.toml) ... \u001b[?25l\u001b[?25hdone\n",
            "  Created wheel for cfgrib: filename=cfgrib-0.9.10.3-py3-none-any.whl size=46719 sha256=da2e11cef93c2b13f62ae09815f55bc4558a8e25f4479d15ac2138c4ac823940\n",
            "  Stored in directory: /root/.cache/pip/wheels/27/28/8d/8b2e992d2d03933d9b1a04f20b7c157d22de6efabf3df4e48e\n",
            "  Building wheel for eccodes (setup.py) ... \u001b[?25l\u001b[?25hdone\n",
            "  Created wheel for eccodes: filename=eccodes-1.5.1-py3-none-any.whl size=40350 sha256=e616ff34d3db07b2c9b82edf1880f5865c41904be2632d17300ad5361444873e\n",
            "  Stored in directory: /root/.cache/pip/wheels/2b/d3/0d/abe43ac0bbf57a2558173d95b1092b691680adf108d484437b\n",
            "  Building wheel for ecmwf-api-client (setup.py) ... \u001b[?25l\u001b[?25hdone\n",
            "  Created wheel for ecmwf-api-client: filename=ecmwf_api_client-1.6.3-py3-none-any.whl size=13533 sha256=9c2447b141b026914682d6fe33511bb216eaa8035066ac79042465b7f544cdda\n",
            "  Stored in directory: /root/.cache/pip/wheels/a3/51/75/1fb8d90e50eff63ba17a457d09c14bf652c98f10a5eeae9ed8\n",
            "  Building wheel for ecmwf-opendata (setup.py) ... \u001b[?25l\u001b[?25hdone\n",
            "  Created wheel for ecmwf-opendata: filename=ecmwf_opendata-0.1.2-py3-none-any.whl size=19544 sha256=97bb0c1f801eed52ba8d67ffa76e15a99d1d136e8e1c8ee49a26251ad5b9f2ea\n",
            "  Stored in directory: /root/.cache/pip/wheels/75/1c/48/beba35885cb7a03e8101cbde4f7f70f440273a2116a4f7d8f5\n",
            "  Building wheel for magics (setup.py) ... \u001b[?25l\u001b[?25hdone\n",
            "  Created wheel for magics: filename=Magics-1.5.8-py2.py3-none-any.whl size=24868 sha256=08598710e2e1b656cd2b8795e49d1a34040d361aeb900953a62bf253320bff20\n",
            "  Stored in directory: /root/.cache/pip/wheels/59/fb/cd/3deaf9bd66239a350b989e21c4dc78d7ae8a0472a0b2682ee3\n",
            "  Building wheel for multiurl (setup.py) ... \u001b[?25l\u001b[?25hdone\n",
            "  Created wheel for multiurl: filename=multiurl-0.2.0-py3-none-any.whl size=21090 sha256=c1411fe76f1932004a783ef7ebb0afb008af98a43f37590e9d6f1aaad5885f69\n",
            "  Stored in directory: /root/.cache/pip/wheels/96/7a/23/38ef6e4637db7a04dcbf2831239cb4fde6c11868509695a7e8\n",
            "  Building wheel for cdsapi (setup.py) ... \u001b[?25l\u001b[?25hdone\n",
            "  Created wheel for cdsapi: filename=cdsapi-0.5.1-py2.py3-none-any.whl size=11700 sha256=11ef29c36625b29ddfec049de971c7dcf815b678ac8be336759e5de58997dc35\n",
            "  Stored in directory: /root/.cache/pip/wheels/5b/a2/af/7a52b8437e534f0b5f1b71232dd9534920579a142d9a191a63\n",
            "  Building wheel for pdbufr (pyproject.toml) ... \u001b[?25l\u001b[?25hdone\n",
            "  Created wheel for pdbufr: filename=pdbufr-0.9.0-py3-none-any.whl size=19637 sha256=4f27fa6da2a73be9aa648554a9b9275a3df979450dc304a1576d38c7300bc361\n",
            "  Stored in directory: /root/.cache/pip/wheels/e7/30/17/ae18bca9f025857a7a7a5345d691ec6673285ad5f651c2658d\n",
            "  Building wheel for pyodc (pyproject.toml) ... \u001b[?25l\u001b[?25hdone\n",
            "  Created wheel for pyodc: filename=pyodc-1.1.4-py3-none-any.whl size=28061 sha256=af0ebc287174c0e682c801fc7dc52dd455cbd45eefb9b74403be3cb04f0bdbaa\n",
            "  Stored in directory: /root/.cache/pip/wheels/a5/89/36/c78d4650e082e0738f983bde56fa619ea6d0c8d91eda6ae3bb\n",
            "  Building wheel for findlibs (setup.py) ... \u001b[?25l\u001b[?25hdone\n",
            "  Created wheel for findlibs: filename=findlibs-0.0.2-py3-none-any.whl size=6559 sha256=82f56e8d484c3ed2c83e44892651210c6e4cc8a5d7cf8ef19639b59aec4768bf\n",
            "  Stored in directory: /root/.cache/pip/wheels/16/e7/71/9deaff72c4a92f111cbc38631e0829b26398ee3599aec65b1b\n",
            "Successfully built climetlab cfgrib eccodes ecmwf-api-client ecmwf-opendata magics multiurl cdsapi pdbufr pyodc findlibs\n",
            "Installing collected packages: findlibs, ecmwf-api-client, magics, ecmwflibs, multiurl, eccodes, cdsapi, pyodc, pdbufr, ecmwf-opendata, cfgrib, climetlab\n",
            "Successfully installed cdsapi-0.5.1 cfgrib-0.9.10.3 climetlab-0.13.5 eccodes-1.5.1 ecmwf-api-client-1.6.3 ecmwf-opendata-0.1.2 ecmwflibs-0.5.0 findlibs-0.0.2 magics-1.5.8 multiurl-0.2.0 pdbufr-0.9.0 pyodc-1.1.4\n"
          ]
        }
      ]
    },
    {
      "cell_type": "code",
      "source": [],
      "metadata": {
        "id": "lq_U_f5_iZY4"
      },
      "execution_count": null,
      "outputs": []
    }
  ]
}